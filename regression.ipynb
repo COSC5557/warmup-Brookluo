{
 "cells": [
  {
   "cell_type": "code",
   "execution_count": 1,
   "metadata": {},
   "outputs": [],
   "source": [
    "import numpy as np\n",
    "import pandas as pd"
   ]
  },
  {
   "cell_type": "code",
   "execution_count": 2,
   "metadata": {},
   "outputs": [],
   "source": [
    "from sklearn.model_selection import train_test_split\n",
    "from sklearn.preprocessing import StandardScaler\n",
    "from sklearn.model_selection import cross_val_score\n",
    "from sklearn.linear_model import Lasso\n",
    "from sklearn import metrics"
   ]
  },
  {
   "cell_type": "code",
   "execution_count": 4,
   "metadata": {},
   "outputs": [],
   "source": [
    "import statsmodels.api as sm"
   ]
  },
  {
   "cell_type": "markdown",
   "metadata": {},
   "source": [
    "## Read in the wine data"
   ]
  },
  {
   "cell_type": "code",
   "execution_count": 5,
   "metadata": {},
   "outputs": [],
   "source": [
    "df_red = pd.read_csv('./dataset/winequality-red.csv', sep=';', index_col=None)\n",
    "df_white = pd.read_csv('./dataset/winequality-white.csv', sep=';', index_col=None)"
   ]
  },
  {
   "cell_type": "markdown",
   "metadata": {},
   "source": [
    "# use OLS regression\n",
    "\n",
    "First use AIC to do model selection and then use 5-fold cross-validation to get a performance"
   ]
  },
  {
   "cell_type": "code",
   "execution_count": 6,
   "metadata": {},
   "outputs": [
    {
     "data": {
      "text/plain": [
       "1599"
      ]
     },
     "execution_count": 6,
     "metadata": {},
     "output_type": "execute_result"
    }
   ],
   "source": [
    "len(df_red)"
   ]
  },
  {
   "cell_type": "code",
   "execution_count": 7,
   "metadata": {},
   "outputs": [],
   "source": [
    "X_red = df_red.iloc[:, :-1].values\n",
    "y_red = df_red.iloc[:, -1].values\n",
    "X_white = df_white.iloc[:, :-1].values\n",
    "y_white = df_white.iloc[:, -1].values"
   ]
  },
  {
   "cell_type": "code",
   "execution_count": 8,
   "metadata": {},
   "outputs": [],
   "source": [
    "X_red = sm.add_constant(X_red)\n",
    "X_white = sm.add_constant(X_white)"
   ]
  },
  {
   "cell_type": "code",
   "execution_count": 40,
   "metadata": {},
   "outputs": [
    {
     "name": "stdout",
     "output_type": "stream",
     "text": [
      "Full model AIC: 3162.2765525826335\n",
      "MSE of the model: 0.4199185257637249\n",
      "Alternative model AIC: 3530.1060744491874\n",
      "MSE of the model: 0.5301744977678724\n"
     ]
    }
   ],
   "source": [
    "model = sm.OLS(y_red, X_red).fit()\n",
    "print(\"Full model AIC:\", model.aic)\n",
    "print(\"MSE of the model:\", model.mse_resid)\n",
    "# print(model.summary())\n",
    "\n",
    "model = sm.OLS(y_red, X_red[:, [0, 1, 3, 4, 6, 8, 9]]).fit()\n",
    "print(\"Alternative model AIC:\", model.aic)\n",
    "print(\"MSE of the model:\", model.mse_resid)"
   ]
  },
  {
   "cell_type": "markdown",
   "metadata": {},
   "source": [
    "For red wine, the full model has a smaller AIC, so it is better, with an MSE of 0.4199185257637249"
   ]
  },
  {
   "cell_type": "code",
   "execution_count": 41,
   "metadata": {},
   "outputs": [
    {
     "name": "stdout",
     "output_type": "stream",
     "text": [
      "Full model AIC: 11111.48027072974\n",
      "MSE of the model: 0.5645371675232171\n",
      "Alternative model AIC: 11106.287753625897\n",
      "MSE of the model: 0.5642837748574745\n"
     ]
    }
   ],
   "source": [
    "model = sm.OLS(y_white, X_white).fit()\n",
    "print(\"Full model AIC:\", model.aic)\n",
    "print(\"MSE of the model:\", model.mse_resid)\n",
    "# model.summary()\n",
    "model = sm.OLS(y_white, np.delete(X_white, obj=(3, 5, 7), axis=1)).fit()\n",
    "print(\"Alternative model AIC:\", model.aic)\n",
    "print(\"MSE of the model:\", model.mse_resid)"
   ]
  },
  {
   "cell_type": "markdown",
   "metadata": {},
   "source": [
    "For white wine, the alternative model has a smaller AIC, so it is better, with an MSE of 0.5642837748574745"
   ]
  },
  {
   "cell_type": "code",
   "execution_count": null,
   "metadata": {},
   "outputs": [],
   "source": []
  }
 ],
 "metadata": {
  "kernelspec": {
   "display_name": "py310",
   "language": "python",
   "name": "python3"
  },
  "language_info": {
   "codemirror_mode": {
    "name": "ipython",
    "version": 3
   },
   "file_extension": ".py",
   "mimetype": "text/x-python",
   "name": "python",
   "nbconvert_exporter": "python",
   "pygments_lexer": "ipython3",
   "version": "3.10.10"
  }
 },
 "nbformat": 4,
 "nbformat_minor": 2
}
